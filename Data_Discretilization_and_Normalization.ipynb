{
 "cells": [
  {
   "cell_type": "code",
   "execution_count": 1,
   "id": "f5c9a7d8-408e-402a-bc82-ed16a4a8b967",
   "metadata": {},
   "outputs": [],
   "source": [
    "#Import required libraries\n",
    "import pandas as pd\n",
    "import matplotlib.pyplot as plt\n",
    "import seaborn as sns\n",
    "import numpy as np"
   ]
  },
  {
   "cell_type": "code",
   "execution_count": 5,
   "id": "26c4d434-658c-4bd9-8f58-3d43c8194b26",
   "metadata": {},
   "outputs": [],
   "source": [
    "# load the dataset\n",
    "df=pd.read_csv(\"Heart.csv\")"
   ]
  },
  {
   "cell_type": "code",
   "execution_count": 7,
   "id": "cc5a67de-3c5f-476a-b122-b1cb452c5806",
   "metadata": {},
   "outputs": [
    {
     "data": {
      "text/html": [
       "<div>\n",
       "<style scoped>\n",
       "    .dataframe tbody tr th:only-of-type {\n",
       "        vertical-align: middle;\n",
       "    }\n",
       "\n",
       "    .dataframe tbody tr th {\n",
       "        vertical-align: top;\n",
       "    }\n",
       "\n",
       "    .dataframe thead th {\n",
       "        text-align: right;\n",
       "    }\n",
       "</style>\n",
       "<table border=\"1\" class=\"dataframe\">\n",
       "  <thead>\n",
       "    <tr style=\"text-align: right;\">\n",
       "      <th></th>\n",
       "      <th>age</th>\n",
       "      <th>sex</th>\n",
       "      <th>cp</th>\n",
       "      <th>trestbps</th>\n",
       "      <th>chol</th>\n",
       "      <th>fbs</th>\n",
       "      <th>restecg</th>\n",
       "      <th>thalach</th>\n",
       "      <th>exang</th>\n",
       "      <th>oldpeak</th>\n",
       "      <th>slope</th>\n",
       "      <th>ca</th>\n",
       "      <th>thal</th>\n",
       "      <th>target</th>\n",
       "    </tr>\n",
       "  </thead>\n",
       "  <tbody>\n",
       "    <tr>\n",
       "      <th>0</th>\n",
       "      <td>52</td>\n",
       "      <td>1</td>\n",
       "      <td>0</td>\n",
       "      <td>125</td>\n",
       "      <td>212</td>\n",
       "      <td>0</td>\n",
       "      <td>1</td>\n",
       "      <td>168</td>\n",
       "      <td>0</td>\n",
       "      <td>1.0</td>\n",
       "      <td>2</td>\n",
       "      <td>2</td>\n",
       "      <td>3</td>\n",
       "      <td>0</td>\n",
       "    </tr>\n",
       "    <tr>\n",
       "      <th>1</th>\n",
       "      <td>53</td>\n",
       "      <td>1</td>\n",
       "      <td>0</td>\n",
       "      <td>140</td>\n",
       "      <td>203</td>\n",
       "      <td>1</td>\n",
       "      <td>0</td>\n",
       "      <td>155</td>\n",
       "      <td>1</td>\n",
       "      <td>3.1</td>\n",
       "      <td>0</td>\n",
       "      <td>0</td>\n",
       "      <td>3</td>\n",
       "      <td>0</td>\n",
       "    </tr>\n",
       "    <tr>\n",
       "      <th>2</th>\n",
       "      <td>70</td>\n",
       "      <td>1</td>\n",
       "      <td>0</td>\n",
       "      <td>145</td>\n",
       "      <td>174</td>\n",
       "      <td>0</td>\n",
       "      <td>1</td>\n",
       "      <td>125</td>\n",
       "      <td>1</td>\n",
       "      <td>2.6</td>\n",
       "      <td>0</td>\n",
       "      <td>0</td>\n",
       "      <td>3</td>\n",
       "      <td>0</td>\n",
       "    </tr>\n",
       "    <tr>\n",
       "      <th>3</th>\n",
       "      <td>61</td>\n",
       "      <td>1</td>\n",
       "      <td>0</td>\n",
       "      <td>148</td>\n",
       "      <td>203</td>\n",
       "      <td>0</td>\n",
       "      <td>1</td>\n",
       "      <td>161</td>\n",
       "      <td>0</td>\n",
       "      <td>0.0</td>\n",
       "      <td>2</td>\n",
       "      <td>1</td>\n",
       "      <td>3</td>\n",
       "      <td>0</td>\n",
       "    </tr>\n",
       "    <tr>\n",
       "      <th>4</th>\n",
       "      <td>62</td>\n",
       "      <td>0</td>\n",
       "      <td>0</td>\n",
       "      <td>138</td>\n",
       "      <td>294</td>\n",
       "      <td>1</td>\n",
       "      <td>1</td>\n",
       "      <td>106</td>\n",
       "      <td>0</td>\n",
       "      <td>1.9</td>\n",
       "      <td>1</td>\n",
       "      <td>3</td>\n",
       "      <td>2</td>\n",
       "      <td>0</td>\n",
       "    </tr>\n",
       "  </tbody>\n",
       "</table>\n",
       "</div>"
      ],
      "text/plain": [
       "   age  sex  cp  trestbps  chol  fbs  restecg  thalach  exang  oldpeak  slope  \\\n",
       "0   52    1   0       125   212    0        1      168      0      1.0      2   \n",
       "1   53    1   0       140   203    1        0      155      1      3.1      0   \n",
       "2   70    1   0       145   174    0        1      125      1      2.6      0   \n",
       "3   61    1   0       148   203    0        1      161      0      0.0      2   \n",
       "4   62    0   0       138   294    1        1      106      0      1.9      1   \n",
       "\n",
       "   ca  thal  target  \n",
       "0   2     3       0  \n",
       "1   0     3       0  \n",
       "2   0     3       0  \n",
       "3   1     3       0  \n",
       "4   3     2       0  "
      ]
     },
     "execution_count": 7,
     "metadata": {},
     "output_type": "execute_result"
    }
   ],
   "source": [
    "# print 1st 5 rows\n",
    "df.head(5)"
   ]
  },
  {
   "cell_type": "code",
   "execution_count": 9,
   "id": "81139ad7-2ac2-4973-8f1c-71a294bff3c0",
   "metadata": {},
   "outputs": [
    {
     "data": {
      "text/plain": [
       "(1025, 14)"
      ]
     },
     "execution_count": 9,
     "metadata": {},
     "output_type": "execute_result"
    }
   ],
   "source": [
    "#print shape of data\n",
    "df.shape"
   ]
  },
  {
   "cell_type": "code",
   "execution_count": 11,
   "id": "a3813566-a1f9-48d3-a8e7-4f95707ddb63",
   "metadata": {},
   "outputs": [
    {
     "name": "stdout",
     "output_type": "stream",
     "text": [
      "<class 'pandas.core.frame.DataFrame'>\n",
      "RangeIndex: 1025 entries, 0 to 1024\n",
      "Data columns (total 14 columns):\n",
      " #   Column    Non-Null Count  Dtype  \n",
      "---  ------    --------------  -----  \n",
      " 0   age       1025 non-null   int64  \n",
      " 1   sex       1025 non-null   int64  \n",
      " 2   cp        1025 non-null   int64  \n",
      " 3   trestbps  1025 non-null   int64  \n",
      " 4   chol      1025 non-null   int64  \n",
      " 5   fbs       1025 non-null   int64  \n",
      " 6   restecg   1025 non-null   int64  \n",
      " 7   thalach   1025 non-null   int64  \n",
      " 8   exang     1025 non-null   int64  \n",
      " 9   oldpeak   1025 non-null   float64\n",
      " 10  slope     1025 non-null   int64  \n",
      " 11  ca        1025 non-null   int64  \n",
      " 12  thal      1025 non-null   int64  \n",
      " 13  target    1025 non-null   int64  \n",
      "dtypes: float64(1), int64(13)\n",
      "memory usage: 112.2 KB\n"
     ]
    }
   ],
   "source": [
    "# print information of dataset\n",
    "df.info()"
   ]
  },
  {
   "cell_type": "code",
   "execution_count": 13,
   "id": "db8f47e7-1801-4029-839d-9280b8712814",
   "metadata": {},
   "outputs": [
    {
     "data": {
      "text/html": [
       "<div>\n",
       "<style scoped>\n",
       "    .dataframe tbody tr th:only-of-type {\n",
       "        vertical-align: middle;\n",
       "    }\n",
       "\n",
       "    .dataframe tbody tr th {\n",
       "        vertical-align: top;\n",
       "    }\n",
       "\n",
       "    .dataframe thead th {\n",
       "        text-align: right;\n",
       "    }\n",
       "</style>\n",
       "<table border=\"1\" class=\"dataframe\">\n",
       "  <thead>\n",
       "    <tr style=\"text-align: right;\">\n",
       "      <th></th>\n",
       "      <th>age</th>\n",
       "      <th>sex</th>\n",
       "      <th>cp</th>\n",
       "      <th>trestbps</th>\n",
       "      <th>chol</th>\n",
       "      <th>fbs</th>\n",
       "      <th>restecg</th>\n",
       "      <th>thalach</th>\n",
       "      <th>exang</th>\n",
       "      <th>oldpeak</th>\n",
       "      <th>slope</th>\n",
       "      <th>ca</th>\n",
       "      <th>thal</th>\n",
       "      <th>target</th>\n",
       "    </tr>\n",
       "  </thead>\n",
       "  <tbody>\n",
       "    <tr>\n",
       "      <th>count</th>\n",
       "      <td>1025.000000</td>\n",
       "      <td>1025.000000</td>\n",
       "      <td>1025.000000</td>\n",
       "      <td>1025.000000</td>\n",
       "      <td>1025.00000</td>\n",
       "      <td>1025.000000</td>\n",
       "      <td>1025.000000</td>\n",
       "      <td>1025.000000</td>\n",
       "      <td>1025.000000</td>\n",
       "      <td>1025.000000</td>\n",
       "      <td>1025.000000</td>\n",
       "      <td>1025.000000</td>\n",
       "      <td>1025.000000</td>\n",
       "      <td>1025.000000</td>\n",
       "    </tr>\n",
       "    <tr>\n",
       "      <th>mean</th>\n",
       "      <td>54.434146</td>\n",
       "      <td>0.695610</td>\n",
       "      <td>0.942439</td>\n",
       "      <td>131.611707</td>\n",
       "      <td>246.00000</td>\n",
       "      <td>0.149268</td>\n",
       "      <td>0.529756</td>\n",
       "      <td>149.114146</td>\n",
       "      <td>0.336585</td>\n",
       "      <td>1.071512</td>\n",
       "      <td>1.385366</td>\n",
       "      <td>0.754146</td>\n",
       "      <td>2.323902</td>\n",
       "      <td>0.513171</td>\n",
       "    </tr>\n",
       "    <tr>\n",
       "      <th>std</th>\n",
       "      <td>9.072290</td>\n",
       "      <td>0.460373</td>\n",
       "      <td>1.029641</td>\n",
       "      <td>17.516718</td>\n",
       "      <td>51.59251</td>\n",
       "      <td>0.356527</td>\n",
       "      <td>0.527878</td>\n",
       "      <td>23.005724</td>\n",
       "      <td>0.472772</td>\n",
       "      <td>1.175053</td>\n",
       "      <td>0.617755</td>\n",
       "      <td>1.030798</td>\n",
       "      <td>0.620660</td>\n",
       "      <td>0.500070</td>\n",
       "    </tr>\n",
       "    <tr>\n",
       "      <th>min</th>\n",
       "      <td>29.000000</td>\n",
       "      <td>0.000000</td>\n",
       "      <td>0.000000</td>\n",
       "      <td>94.000000</td>\n",
       "      <td>126.00000</td>\n",
       "      <td>0.000000</td>\n",
       "      <td>0.000000</td>\n",
       "      <td>71.000000</td>\n",
       "      <td>0.000000</td>\n",
       "      <td>0.000000</td>\n",
       "      <td>0.000000</td>\n",
       "      <td>0.000000</td>\n",
       "      <td>0.000000</td>\n",
       "      <td>0.000000</td>\n",
       "    </tr>\n",
       "    <tr>\n",
       "      <th>25%</th>\n",
       "      <td>48.000000</td>\n",
       "      <td>0.000000</td>\n",
       "      <td>0.000000</td>\n",
       "      <td>120.000000</td>\n",
       "      <td>211.00000</td>\n",
       "      <td>0.000000</td>\n",
       "      <td>0.000000</td>\n",
       "      <td>132.000000</td>\n",
       "      <td>0.000000</td>\n",
       "      <td>0.000000</td>\n",
       "      <td>1.000000</td>\n",
       "      <td>0.000000</td>\n",
       "      <td>2.000000</td>\n",
       "      <td>0.000000</td>\n",
       "    </tr>\n",
       "    <tr>\n",
       "      <th>50%</th>\n",
       "      <td>56.000000</td>\n",
       "      <td>1.000000</td>\n",
       "      <td>1.000000</td>\n",
       "      <td>130.000000</td>\n",
       "      <td>240.00000</td>\n",
       "      <td>0.000000</td>\n",
       "      <td>1.000000</td>\n",
       "      <td>152.000000</td>\n",
       "      <td>0.000000</td>\n",
       "      <td>0.800000</td>\n",
       "      <td>1.000000</td>\n",
       "      <td>0.000000</td>\n",
       "      <td>2.000000</td>\n",
       "      <td>1.000000</td>\n",
       "    </tr>\n",
       "    <tr>\n",
       "      <th>75%</th>\n",
       "      <td>61.000000</td>\n",
       "      <td>1.000000</td>\n",
       "      <td>2.000000</td>\n",
       "      <td>140.000000</td>\n",
       "      <td>275.00000</td>\n",
       "      <td>0.000000</td>\n",
       "      <td>1.000000</td>\n",
       "      <td>166.000000</td>\n",
       "      <td>1.000000</td>\n",
       "      <td>1.800000</td>\n",
       "      <td>2.000000</td>\n",
       "      <td>1.000000</td>\n",
       "      <td>3.000000</td>\n",
       "      <td>1.000000</td>\n",
       "    </tr>\n",
       "    <tr>\n",
       "      <th>max</th>\n",
       "      <td>77.000000</td>\n",
       "      <td>1.000000</td>\n",
       "      <td>3.000000</td>\n",
       "      <td>200.000000</td>\n",
       "      <td>564.00000</td>\n",
       "      <td>1.000000</td>\n",
       "      <td>2.000000</td>\n",
       "      <td>202.000000</td>\n",
       "      <td>1.000000</td>\n",
       "      <td>6.200000</td>\n",
       "      <td>2.000000</td>\n",
       "      <td>4.000000</td>\n",
       "      <td>3.000000</td>\n",
       "      <td>1.000000</td>\n",
       "    </tr>\n",
       "  </tbody>\n",
       "</table>\n",
       "</div>"
      ],
      "text/plain": [
       "               age          sex           cp     trestbps        chol  \\\n",
       "count  1025.000000  1025.000000  1025.000000  1025.000000  1025.00000   \n",
       "mean     54.434146     0.695610     0.942439   131.611707   246.00000   \n",
       "std       9.072290     0.460373     1.029641    17.516718    51.59251   \n",
       "min      29.000000     0.000000     0.000000    94.000000   126.00000   \n",
       "25%      48.000000     0.000000     0.000000   120.000000   211.00000   \n",
       "50%      56.000000     1.000000     1.000000   130.000000   240.00000   \n",
       "75%      61.000000     1.000000     2.000000   140.000000   275.00000   \n",
       "max      77.000000     1.000000     3.000000   200.000000   564.00000   \n",
       "\n",
       "               fbs      restecg      thalach        exang      oldpeak  \\\n",
       "count  1025.000000  1025.000000  1025.000000  1025.000000  1025.000000   \n",
       "mean      0.149268     0.529756   149.114146     0.336585     1.071512   \n",
       "std       0.356527     0.527878    23.005724     0.472772     1.175053   \n",
       "min       0.000000     0.000000    71.000000     0.000000     0.000000   \n",
       "25%       0.000000     0.000000   132.000000     0.000000     0.000000   \n",
       "50%       0.000000     1.000000   152.000000     0.000000     0.800000   \n",
       "75%       0.000000     1.000000   166.000000     1.000000     1.800000   \n",
       "max       1.000000     2.000000   202.000000     1.000000     6.200000   \n",
       "\n",
       "             slope           ca         thal       target  \n",
       "count  1025.000000  1025.000000  1025.000000  1025.000000  \n",
       "mean      1.385366     0.754146     2.323902     0.513171  \n",
       "std       0.617755     1.030798     0.620660     0.500070  \n",
       "min       0.000000     0.000000     0.000000     0.000000  \n",
       "25%       1.000000     0.000000     2.000000     0.000000  \n",
       "50%       1.000000     0.000000     2.000000     1.000000  \n",
       "75%       2.000000     1.000000     3.000000     1.000000  \n",
       "max       2.000000     4.000000     3.000000     1.000000  "
      ]
     },
     "execution_count": 13,
     "metadata": {},
     "output_type": "execute_result"
    }
   ],
   "source": [
    "# description of dataset\n",
    "df.describe()"
   ]
  },
  {
   "cell_type": "code",
   "execution_count": 23,
   "id": "9cea377f-fb50-44e3-b15b-0cbc09ba4a2d",
   "metadata": {},
   "outputs": [],
   "source": [
    "#Operation 1\n",
    "##STD Derivation,varience calculation for every numerical colummn"
   ]
  },
  {
   "cell_type": "code",
   "execution_count": 25,
   "id": "c0684caf-48a5-4d15-a903-da9aced71863",
   "metadata": {},
   "outputs": [
    {
     "name": "stdout",
     "output_type": "stream",
     "text": [
      "age           int64\n",
      "sex           int64\n",
      "cp            int64\n",
      "trestbps      int64\n",
      "chol          int64\n",
      "fbs           int64\n",
      "restecg       int64\n",
      "thalach       int64\n",
      "exang         int64\n",
      "oldpeak     float64\n",
      "slope         int64\n",
      "ca            int64\n",
      "thal          int64\n",
      "target        int64\n",
      "dtype: object\n"
     ]
    }
   ],
   "source": [
    "print(df.dtypes)"
   ]
  },
  {
   "cell_type": "code",
   "execution_count": 15,
   "id": "4106ac87-c4a0-4e5f-be61-9c319b0572b3",
   "metadata": {},
   "outputs": [
    {
     "data": {
      "text/plain": [
       "age         0\n",
       "sex         0\n",
       "cp          0\n",
       "trestbps    0\n",
       "chol        0\n",
       "fbs         0\n",
       "restecg     0\n",
       "thalach     0\n",
       "exang       0\n",
       "oldpeak     0\n",
       "slope       0\n",
       "ca          0\n",
       "thal        0\n",
       "target      0\n",
       "dtype: int64"
      ]
     },
     "execution_count": 15,
     "metadata": {},
     "output_type": "execute_result"
    }
   ],
   "source": [
    "#check the null values \n",
    "df.isnull().sum()\n",
    "\n",
    "#In this dataset there is no null value "
   ]
  },
  {
   "cell_type": "code",
   "execution_count": 27,
   "id": "9f406290-3706-4300-800f-cd64f34d31ee",
   "metadata": {},
   "outputs": [],
   "source": [
    "#Variance and std deviation of age column"
   ]
  },
  {
   "cell_type": "code",
   "execution_count": 31,
   "id": "e702e0ae-128c-4da0-a430-73fe9e688168",
   "metadata": {},
   "outputs": [
    {
     "name": "stdout",
     "output_type": "stream",
     "text": [
      "Variance of Age column:  82.30645007621945\n",
      "Standard derivation of Age column:  9.072290233244274\n"
     ]
    }
   ],
   "source": [
    "#step 1: calculate mean val\n",
    "mean_val=sum(df[\"age\"]/len(df[\"age\"]))\n",
    "#step 2: calculate the squared differences\n",
    "squared_diff=[(x-mean_val)**2 for x in df[\"age\"]]\n",
    "# Step 3: Calculate variance (divide by n-1 for sample std deviation)\n",
    "variance_Age = sum(squared_diff) / (len(df[\"age\"]) - 1)\n",
    "# step 4: take square root to get std dev\n",
    "std_dev_Age=np.sqrt(variance_Age)\n",
    "print(\"Variance of Age column: \",variance_Age)\n",
    "print(\"Standard derivation of Age column: \",std_dev_Age)\n"
   ]
  },
  {
   "cell_type": "code",
   "execution_count": 35,
   "id": "033a43eb-b897-439e-8733-06e1b6433add",
   "metadata": {},
   "outputs": [
    {
     "name": "stdout",
     "output_type": "stream",
     "text": [
      "Variance of Chol column:  2661.787109375004\n",
      "Standard derivation of Chol column:  51.5925102061821\n"
     ]
    }
   ],
   "source": [
    "#Std deviation and varience of chol column\n",
    "#step 1: calculate mean val\n",
    "mean_val=sum(df[\"chol\"]/len(df[\"chol\"]))\n",
    "#step 2: calculate the squared differences\n",
    "squared_diff=[(x-mean_val)**2 for x in df[\"chol\"]]\n",
    "# Step 3: Calculate variance (divide by n-1 for sample std deviation)\n",
    "variance_Chol = sum(squared_diff) / (len(df[\"chol\"]) - 1)\n",
    "# step 4: take square root to get std dev\n",
    "std_dev_Chol=np.sqrt(variance_Chol)\n",
    "print(\"Variance of Chol column: \",variance_Chol)\n",
    "print(\"Standard derivation of Chol column: \",std_dev_Chol)"
   ]
  },
  {
   "cell_type": "code",
   "execution_count": 43,
   "id": "35e7e2d9-c2c6-46d3-9a0e-347d3e41206d",
   "metadata": {},
   "outputs": [
    {
     "name": "stdout",
     "output_type": "stream",
     "text": [
      "Variance of trestBPs column:  306.8354096798774\n",
      "Standard derivation of trestbps column:  17.51671800537639\n"
     ]
    }
   ],
   "source": [
    "# std deviation and variance of restbp\n",
    "#step 1: calculate mean val\n",
    "mean_val=sum(df[\"trestbps\"]/len(df[\"trestbps\"]))\n",
    "#step 2: calculate the squared differences\n",
    "squared_diff=[(x-mean_val)**2 for x in df[\"trestbps\"]]\n",
    "# Step 3: Calculate variance (divide by n-1 for sample std deviation)\n",
    "variance_RestBP = sum(squared_diff) / (len(df[\"trestbps\"]) - 1)\n",
    "# step 4: take square root to get std dev\n",
    "std_dev_RestBP=np.sqrt(variance_RestBP)\n",
    "print(\"Variance of trestBPs column: \",variance_RestBP)\n",
    "print(\"Standard derivation of trestbps column: \",std_dev_RestBP)"
   ]
  },
  {
   "cell_type": "code",
   "execution_count": 51,
   "id": "47f61b5e-bcf3-47a5-822a-5304f516dc1a",
   "metadata": {},
   "outputs": [
    {
     "name": "stdout",
     "output_type": "stream",
     "text": [
      "Variance of fbs column:  0.12711128048780618\n",
      "Standard derivation of fbs column:  0.3565266897271594\n"
     ]
    }
   ],
   "source": [
    "#step 1: calculate mean val\n",
    "mean_val=sum(df[\"fbs\"]/len(df[\"fbs\"]))\n",
    "#step 2: calculate the squared differences\n",
    "squared_diff=[(x-mean_val)**2 for x in df[\"fbs\"]]\n",
    "# Step 3: Calculate variance (divide by n-1 for sample std deviation)\n",
    "variance_MaxHR = sum(squared_diff) / (len(df[\"fbs\"]) - 1)\n",
    "# step 4: take square root to get std dev\n",
    "std_dev_MaxHR=np.sqrt(variance_MaxHR)\n",
    "print(\"Variance of fbs column: \",variance_MaxHR)\n",
    "print(\"Standard derivation of fbs column: \",std_dev_MaxHR)"
   ]
  },
  {
   "cell_type": "code",
   "execution_count": 53,
   "id": "6399344c-e424-4deb-b623-03502b0caed8",
   "metadata": {},
   "outputs": [
    {
     "name": "stdout",
     "output_type": "stream",
     "text": [
      "Variance of cp column:  1.0601600609755943\n",
      "Standard derivation of cp column:  1.0296407436458574\n"
     ]
    }
   ],
   "source": [
    "#step 1: calculate mean val\n",
    "mean_val=sum(df[\"cp\"]/len(df[\"cp\"]))\n",
    "#step 2: calculate the squared differences\n",
    "squared_diff=[(x-mean_val)**2 for x in df[\"cp\"]]\n",
    "# Step 3: Calculate variance (divide by n-1 for sample std deviation)\n",
    "variance_MaxHR = sum(squared_diff) / (len(df[\"cp\"]) - 1)\n",
    "# step 4: take square root to get std dev\n",
    "std_dev_MaxHR=np.sqrt(variance_MaxHR)\n",
    "print(\"Variance of cp column: \",variance_MaxHR)\n",
    "print(\"Standard derivation of cp column: \",std_dev_MaxHR)"
   ]
  },
  {
   "cell_type": "code",
   "execution_count": 55,
   "id": "8d2c2903-0400-4290-b2b2-e5fde88b1893",
   "metadata": {},
   "outputs": [
    {
     "name": "stdout",
     "output_type": "stream",
     "text": [
      "Variance of Oldpeak column:  1.3807501524390182\n",
      "Standard derivation of Oldpeak column:  1.1750532551501733\n"
     ]
    }
   ],
   "source": [
    "#step 1: calculate mean val\n",
    "mean_val=sum(df[\"oldpeak\"]/len(df[\"oldpeak\"]))\n",
    "#step 2: calculate the squared differences\n",
    "squared_diff=[(x-mean_val)**2 for x in df[\"oldpeak\"]]\n",
    "# Step 3: Calculate variance (divide by n-1 for sample std deviation)\n",
    "variance_Oldpeak = sum(squared_diff) / (len(df[\"oldpeak\"]) - 1)\n",
    "# step 4: take square root to get std dev\n",
    "std_dev_Oldpeak=np.sqrt(variance_Oldpeak)\n",
    "print(\"Variance of Oldpeak column: \",variance_Oldpeak)\n",
    "print(\"Standard derivation of Oldpeak column: \",std_dev_Oldpeak)"
   ]
  },
  {
   "cell_type": "code",
   "execution_count": 61,
   "id": "47001619-1a0f-41b4-847b-064a3c835add",
   "metadata": {},
   "outputs": [
    {
     "data": {
      "image/png": "[encoded data removed]",
      "text/plain": [
       "<Figure size 1000x500 with 1 Axes>"
      ]
     },
     "metadata": {},
     "output_type": "display_data"
    },
    {
     "data": {
      "image/png": "[encoded data removed]",
      "text/plain": [
       "<Figure size 1000x500 with 1 Axes>"
      ]
     },
     "metadata": {},
     "output_type": "display_data"
    }
   ],
   "source": [
    "# Compute variance and standard deviation\n",
    "variance_values = df[[\"age\", \"trestbps\", \"chol\", \"cp\", \"oldpeak\"]].var()\n",
    "std_dev_values = df[[\"age\", \"trestbps\", \"chol\", \"cp\", \"oldpeak\"]].std()\n",
    "\n",
    "# Create a bar plot for variance\n",
    "plt.figure(figsize=(10, 5))\n",
    "sns.barplot(x=variance_values.index, y=variance_values.values, palette=\"Blues\")\n",
    "plt.xlabel(\"Columns\")\n",
    "plt.ylabel(\"Variance\")\n",
    "plt.title(\"Variance of Numerical Columns\")\n",
    "plt.show()\n",
    "\n",
    "# Create a bar plot for standard deviation\n",
    "plt.figure(figsize=(10, 5))\n",
    "sns.barplot(x=std_dev_values.index, y=std_dev_values.values, palette=\"Greens\")\n",
    "plt.xlabel(\"Columns\")\n",
    "plt.ylabel(\"Standard Deviation\")\n",
    "plt.title(\"Standard Deviation of Numerical Columns\")\n",
    "plt.show()"
   ]
  },
  {
   "cell_type": "code",
   "execution_count": 75,
   "id": "d7c46b1a-5476-46a9-8a56-a0d8e41da1ad",
   "metadata": {},
   "outputs": [
    {
     "name": "stdout",
     "output_type": "stream",
     "text": [
      "Covariance between Age and chol:  102.89062500000021\n",
      "Correlation coeficient between Age and chol:  0.21982253466576074\n"
     ]
    }
   ],
   "source": [
    "#Operation 2 \n",
    "#Find covarience and perform correlation analysis using correlation coeeficent\n",
    "\n",
    "##### Covariance and correlation analysis of Age Vs MaxHR #####\n",
    "\n",
    "\n",
    "#select 2 numbrical column -- Age, MaxHR and drop NaN values\n",
    "x=df[\"age\"].dropna().values\n",
    "y=df[\"chol\"].dropna().values\n",
    "#step 1: compute mean of x and y\n",
    "mean_x=sum(x)/len(x)\n",
    "mean_y=sum(y)/len(y)\n",
    "\n",
    "#step 2: compute covariance\n",
    "covariance_AgeVsMaxBP=sum((x-mean_x)*(y-mean_y))/(len(x)-1)\n",
    "\n",
    "#step 3: compute standard derivation\n",
    "std_x=(sum((x-mean_x)**2)/(len(x)-1))**0.5\n",
    "std_y=(sum((y-mean_y)**2)/(len(x)-1))**0.5\n",
    "\n",
    "#step 4: compute correlation coeficient\n",
    "correlation_AgeVsMaxBP=covariance_AgeVsMaxBP/(std_x * std_y)\n",
    "\n",
    "print(\"Covariance between Age and chol: \",covariance_AgeVsMaxBP)\n",
    "print(\"Correlation coeficient between Age and chol: \",correlation_AgeVsMaxBP)"
   ]
  },
  {
   "cell_type": "code",
   "execution_count": 137,
   "id": "73be3a24-7a4a-42dd-85c4-6ee4f6397e60",
   "metadata": {},
   "outputs": [
    {
     "data": {
      "image/png": "[encoded data removed]",
      "text/plain": [
       "<Figure size 1000x600 with 2 Axes>"
      ]
     },
     "metadata": {},
     "output_type": "display_data"
    }
   ],
   "source": [
    "import seaborn as sns\n",
    "import matplotlib.pyplot as plt\n",
    "\n",
    "# Calculate the correlation matrix for Age and MaxBP\n",
    "correlation_matrix = df[['age','trestbps','chol','fbs','restecg','thalach','exang','oldpeak','slope','ca','thal','target']].corr()\n",
    "\n",
    "# Heatmap\n",
    "plt.figure(figsize=(10, 6))\n",
    "sns.heatmap(correlation_matrix, annot=True, linewidths=0.5)\n",
    "\n",
    "plt.title(\"Correlation Heatmap of Heart Dataset\", fontsize=14)\n",
    "plt.show()"
   ]
  },
  {
   "cell_type": "code",
   "execution_count": 83,
   "id": "a10bf122-b670-4c81-9415-a10c82e1ffef",
   "metadata": {},
   "outputs": [],
   "source": [
    "#obervation\n",
    "####covarience is -81.42 the negative value indicate an inerse relationship\n",
    "#correlation coefficent is -0.39'''"
   ]
  },
  {
   "cell_type": "code",
   "execution_count": 85,
   "id": "efada367-d98f-4978-903a-e60171e579c5",
   "metadata": {},
   "outputs": [
    {
     "name": "stdout",
     "output_type": "stream",
     "text": [
      "Strongly correlated featues are:  set()\n"
     ]
    }
   ],
   "source": [
    "#Operation 3:Identify independent features and unwanted features\n",
    "# 1st find highly correlated features \n",
    "threshold=0.8\n",
    "high_corr_features=set()\n",
    "for i in range(len(correlation_matrix.columns)):#iterates over the upper triangle of the correlation matrix \n",
    "    for j in range(i):   #avoid duplicate pairs\n",
    "        if abs(correlation_matrix.iloc[i,j])>threshold:\n",
    "            col_name=correlation_matrix.columns[i]\n",
    "            high_corr_features.add(col_name)\n",
    "print(\"Strongly correlated featues are: \",high_corr_features)\n",
    "\n",
    "# if there is strongly correlated features(i.e. unwanted features) then drop it\n",
    "reduced_features=df.drop(columns=high_corr_features)"
   ]
  },
  {
   "cell_type": "code",
   "execution_count": 89,
   "id": "55f0e138-f005-4921-b855-02af4cd3dbeb",
   "metadata": {},
   "outputs": [
    {
     "name": "stdout",
     "output_type": "stream",
     "text": [
      "0       Middle-Age\n",
      "1       Middle-Age\n",
      "2            Elder\n",
      "3            Elder\n",
      "4            Elder\n",
      "           ...    \n",
      "1020    Middle-Age\n",
      "1021         Elder\n",
      "1022         Young\n",
      "1023         Young\n",
      "1024    Middle-Age\n",
      "Name: age_binned, Length: 1025, dtype: category\n",
      "Categories (3, object): ['Young' < 'Middle-Age' < 'Elder']\n"
     ]
    }
   ],
   "source": [
    "#Operation 4:data discretization using equi frequency binning method on age attribute\n",
    "k=3  #no. of bins\n",
    "\n",
    "# perform equi-frequency binning into 3 bins\n",
    "df[\"age_binned\"]=pd.qcut(df[\"age\"],q=3,labels=[\"Young\",\"Middle-Age\",\"Elder\"])\n",
    "#print the bins \n",
    "print(df[\"age_binned\"])"
   ]
  },
  {
   "cell_type": "code",
   "execution_count": 93,
   "id": "8199d4b4-eee7-4609-9fb4-af6acd3fa22c",
   "metadata": {},
   "outputs": [
    {
     "data": {
      "text/plain": [
       "<Axes: xlabel='age', ylabel='Count'>"
      ]
     },
     "execution_count": 93,
     "metadata": {},
     "output_type": "execute_result"
    },
    {
     "data": {
      "image/png": "[encoded data removed]",
      "text/plain": [
       "<Figure size 640x480 with 1 Axes>"
      ]
     },
     "metadata": {},
     "output_type": "display_data"
    }
   ],
   "source": [
    "# visualize bins using histogram\n",
    "sns.histplot(df['age'], bins=k, kde=True,color=\"blue\")"
   ]
  },
  {
   "cell_type": "code",
   "execution_count": 95,
   "id": "5c6b4d4e-4329-4a3f-b0cc-178e9221a7e2",
   "metadata": {},
   "outputs": [],
   "source": [
    "#Operation 5 :Data Normalization\n",
    "#using min max normalization ,z-score normalization ,decimal scaling normalization"
   ]
  },
  {
   "cell_type": "code",
   "execution_count": 97,
   "id": "7453dc33-b543-4d6b-8a6c-9fd5af89f3ba",
   "metadata": {},
   "outputs": [
    {
     "name": "stdout",
     "output_type": "stream",
     "text": [
      "0       0.292453\n",
      "1       0.433962\n",
      "2       0.481132\n",
      "3       0.509434\n",
      "4       0.415094\n",
      "          ...   \n",
      "1020    0.433962\n",
      "1021    0.292453\n",
      "1022    0.150943\n",
      "1023    0.150943\n",
      "1024    0.245283\n",
      "Name: RestBP_MinMax, Length: 1025, dtype: float64\n"
     ]
    }
   ],
   "source": [
    "# Min-Max normalization ---> scales values between 0 and 1. Best for bounded values\n",
    "\n",
    "# Min-Max for Rest blood presserl (RestBP)\n",
    "df[\"RestBP_MinMax\"]=(df[\"trestbps\"]-df[\"trestbps\"].min())/(df[\"trestbps\"].max()-df[\"trestbps\"].min())\n",
    "print(df[\"RestBP_MinMax\"])"
   ]
  },
  {
   "cell_type": "code",
   "execution_count": 99,
   "id": "306fbb01-2701-46cf-bee8-665d92429980",
   "metadata": {},
   "outputs": [
    {
     "name": "stdout",
     "output_type": "stream",
     "text": [
      "0       0.196347\n",
      "1       0.175799\n",
      "2       0.109589\n",
      "3       0.175799\n",
      "4       0.383562\n",
      "          ...   \n",
      "1020    0.216895\n",
      "1021    0.301370\n",
      "1022    0.340183\n",
      "1023    0.292237\n",
      "1024    0.141553\n",
      "Name: Chol_MinMax, Length: 1025, dtype: float64\n"
     ]
    }
   ],
   "source": [
    "# Min-Max for Cholestrol(Chol)\n",
    "df[\"Chol_MinMax\"]=(df[\"chol\"]-df[\"chol\"].min())/(df[\"chol\"].max()-df[\"chol\"].min())\n",
    "print(df[\"Chol_MinMax\"])"
   ]
  },
  {
   "cell_type": "code",
   "execution_count": 103,
   "id": "432f9bd5-b822-456e-bb59-a6f8c9b8b11b",
   "metadata": {},
   "outputs": [
    {
     "name": "stdout",
     "output_type": "stream",
     "text": [
      "0       0.000000\n",
      "1       0.000000\n",
      "2       0.000000\n",
      "3       0.000000\n",
      "4       0.000000\n",
      "          ...   \n",
      "1020    0.333333\n",
      "1021    0.000000\n",
      "1022    0.000000\n",
      "1023    0.000000\n",
      "1024    0.000000\n",
      "Name: cp_MinMax, Length: 1025, dtype: float64\n"
     ]
    }
   ],
   "source": [
    "# Min-Max for cp\n",
    "df[\"cp_MinMax\"]=(df[\"cp\"]-df[\"cp\"].min())/(df[\"cp\"].max()-df[\"cp\"].min())\n",
    "print(df[\"cp_MinMax\"])"
   ]
  },
  {
   "cell_type": "code",
   "execution_count": 105,
   "id": "b3527768-4313-4cae-9796-9583ff3a4bb6",
   "metadata": {},
   "outputs": [
    {
     "name": "stdout",
     "output_type": "stream",
     "text": [
      "0      -0.377451\n",
      "1       0.478874\n",
      "2       0.764315\n",
      "3       0.935580\n",
      "4       0.364697\n",
      "          ...   \n",
      "1020    0.478874\n",
      "1021   -0.377451\n",
      "1022   -1.233776\n",
      "1023   -1.233776\n",
      "1024   -0.662893\n",
      "Name: RestBP_ZScore, Length: 1025, dtype: float64\n"
     ]
    }
   ],
   "source": [
    "# Z-score normalization ---> scales values with mean=0 and standard deviation=1\n",
    "\n",
    "# Z-score for Rest blood presser (RestBP)\n",
    "df[\"RestBP_ZScore\"] = (df[\"trestbps\"] - df[\"trestbps\"].mean()) / df[\"trestbps\"].std()\n",
    "print(df[\"RestBP_ZScore\"])"
   ]
  },
  {
   "cell_type": "code",
   "execution_count": 107,
   "id": "4986e3e9-1763-496d-9a62-63befa60c505",
   "metadata": {},
   "outputs": [
    {
     "name": "stdout",
     "output_type": "stream",
     "text": [
      "0      -0.659010\n",
      "1      -0.833454\n",
      "2      -1.395551\n",
      "3      -0.833454\n",
      "4       0.930368\n",
      "          ...   \n",
      "1020   -0.484566\n",
      "1021    0.232592\n",
      "1022    0.562097\n",
      "1023    0.155061\n",
      "1024   -1.124194\n",
      "Name: Chol_ZScore, Length: 1025, dtype: float64\n"
     ]
    }
   ],
   "source": [
    "# Z-score for Cholestrol\n",
    "df[\"Chol_ZScore\"] = (df[\"chol\"] - df[\"chol\"].mean()) / df[\"chol\"].std()\n",
    "print(df[\"Chol_ZScore\"])"
   ]
  },
  {
   "cell_type": "code",
   "execution_count": 109,
   "id": "9ac8fd41-e078-445c-b477-f820ede7bec6",
   "metadata": {},
   "outputs": [
    {
     "name": "stdout",
     "output_type": "stream",
     "text": [
      "0      -0.915309\n",
      "1      -0.915309\n",
      "2      -0.915309\n",
      "3      -0.915309\n",
      "4      -0.915309\n",
      "          ...   \n",
      "1020    0.055904\n",
      "1021   -0.915309\n",
      "1022   -0.915309\n",
      "1023   -0.915309\n",
      "1024   -0.915309\n",
      "Name: cp_ZScore, Length: 1025, dtype: float64\n"
     ]
    }
   ],
   "source": [
    "#Z-score for MaxHR\n",
    "df[\"cp_ZScore\"] = (df[\"cp\"] - df[\"cp\"].mean()) / df[\"cp\"].std()\n",
    "print(df[\"cp_ZScore\"])"
   ]
  },
  {
   "cell_type": "code",
   "execution_count": 113,
   "id": "215af896-318c-48eb-8a1f-aba6ebfdd6f2",
   "metadata": {},
   "outputs": [
    {
     "name": "stdout",
     "output_type": "stream",
     "text": [
      "0       0.125\n",
      "1       0.140\n",
      "2       0.145\n",
      "3       0.148\n",
      "4       0.138\n",
      "        ...  \n",
      "1020    0.140\n",
      "1021    0.125\n",
      "1022    0.110\n",
      "1023    0.110\n",
      "1024    0.120\n",
      "Name: RestBP_decimal, Length: 1025, dtype: float64\n"
     ]
    }
   ],
   "source": [
    "# Decimal scaling normalization ---> scales values by moving the decimal point based on the maximum absolute value\n",
    "# Formula--> x'=x/10^j  where j is the no. of digit in Xmax\n",
    "\n",
    "# Decimal scaling for Rest blood presser (RestBP)\n",
    "j_RestBP=len(str(abs(df[\"trestbps\"].max())))\n",
    "df[\"RestBP_decimal\"]=df[\"trestbps\"]/(10**j_RestBP)\n",
    "print(df[\"RestBP_decimal\"])"
   ]
  },
  {
   "cell_type": "code",
   "execution_count": 115,
   "id": "1e19519f-a8f9-4c12-a2c3-14ff7f2ac323",
   "metadata": {},
   "outputs": [
    {
     "name": "stdout",
     "output_type": "stream",
     "text": [
      "0       0.212\n",
      "1       0.203\n",
      "2       0.174\n",
      "3       0.203\n",
      "4       0.294\n",
      "        ...  \n",
      "1020    0.221\n",
      "1021    0.258\n",
      "1022    0.275\n",
      "1023    0.254\n",
      "1024    0.188\n",
      "Name: Chol_decimal, Length: 1025, dtype: float64\n"
     ]
    }
   ],
   "source": [
    "# Decimal scaling for Caholestrol (Chol)\n",
    "j_Chol=len(str(abs(df[\"chol\"].max())))\n",
    "df[\"Chol_decimal\"]=df[\"chol\"]/(10**j_Chol)\n",
    "print(df[\"Chol_decimal\"])"
   ]
  },
  {
   "cell_type": "code",
   "execution_count": 117,
   "id": "e8c15184-25e1-499c-86f7-b043741c9e00",
   "metadata": {},
   "outputs": [
    {
     "name": "stdout",
     "output_type": "stream",
     "text": [
      "0       0.0\n",
      "1       0.0\n",
      "2       0.0\n",
      "3       0.0\n",
      "4       0.0\n",
      "       ... \n",
      "1020    0.1\n",
      "1021    0.0\n",
      "1022    0.0\n",
      "1023    0.0\n",
      "1024    0.0\n",
      "Name: cp_decimal, Length: 1025, dtype: float64\n"
     ]
    }
   ],
   "source": [
    "# Decimal scaling for MaxHR\n",
    "j_MaxHR=len(str(abs(df[\"cp\"].max())))\n",
    "df[\"cp_decimal\"]=df[\"cp\"]/(10**j_MaxHR)\n",
    "print(df[\"cp_decimal\"])"
   ]
  },
  {
   "cell_type": "code",
   "execution_count": 121,
   "id": "0206b69c-3ea6-473e-ab02-947e9de52e15",
   "metadata": {},
   "outputs": [
    {
     "data": {
      "image/png": "[encoded data removed]",
      "text/plain": [
       "<Figure size 1200x600 with 1 Axes>"
      ]
     },
     "metadata": {},
     "output_type": "display_data"
    }
   ],
   "source": [
    "# Create a DataFrame with all normalization methods\n",
    "normalized_data = df[[\"RestBP_MinMax\", \"RestBP_ZScore\", \"RestBP_decimal\",\n",
    "                      \"Chol_MinMax\", \"Chol_ZScore\", \"Chol_decimal\",\n",
    "                      \"cp_MinMax\", \"cp_ZScore\", \"cp_decimal\"]]\n",
    "\n",
    "# Plot box plots\n",
    "plt.figure(figsize=(12, 6))\n",
    "sns.boxplot(data=normalized_data)\n",
    "plt.xticks(rotation=45)\n",
    "plt.title(\"Comparison of Different Normalization Methods\")\n",
    "plt.show()\n"
   ]
  },
  {
   "cell_type": "code",
   "execution_count": 123,
   "id": "482dc537-8b13-4554-9ddd-2c9e674a77fc",
   "metadata": {},
   "outputs": [],
   "source": [
    "#Min-Max Scaling is ideal id all features need to be within the same scale (sg,neural network)\n",
    "#Z-Score Normalization is useful for detecting outlier in attribute like chol and ca"
   ]
  },
  {
   "cell_type": "code",
   "execution_count": 125,
   "id": "d154caf1-83af-4a68-9bbc-d64db329533e",
   "metadata": {},
   "outputs": [
    {
     "ename": "SyntaxError",
     "evalue": "invalid syntax (1687491206.py, line 3)",
     "output_type": "error",
     "traceback": [
      "\u001b[1;36m  Cell \u001b[1;32mIn[125], line 3\u001b[1;36m\u001b[0m\n\u001b[1;33m    Feature selection and normalization improved data quality for machine learning models.\u001b[0m\n\u001b[1;37m            ^\u001b[0m\n\u001b[1;31mSyntaxError\u001b[0m\u001b[1;31m:\u001b[0m invalid syntax\n"
     ]
    }
   ],
   "source": [
    "# Final Conclusion:\n",
    "\n",
    "Feature selection and normalization improved data quality for machine learning models.\n",
    "\n",
    "Strong correlations were identified and redundant features were dropped to avoid multicollinearity.\n",
    "\n",
    "Heart rate tends to decline with age, confirming medical insights about cardiovascular health.\n",
    "\n",
    "The dataset indicates that individuals aged 50-60 are at higher risk, making it a key target group for healthcare interventions."
   ]
  },
  {
   "cell_type": "code",
   "execution_count": null,
   "id": "e14d54e8-2a19-4de0-a74f-47f28ea8bc85",
   "metadata": {},
   "outputs": [],
   "source": []
  }
 ],
 "metadata": {
  "kernelspec": {
   "display_name": "Python 3 (ipykernel)",
   "language": "python",
   "name": "python3"
  },
  "language_info": {
   "codemirror_mode": {
    "name": "ipython",
    "version": 3
   },
   "file_extension": ".py",
   "mimetype": "text/x-python",
   "name": "python",
   "nbconvert_exporter": "python",
   "pygments_lexer": "ipython3",
   "version": "3.11.7"
  }
 },
 "nbformat": 4,
 "nbformat_minor": 5
}
